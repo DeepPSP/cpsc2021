{
 "cells": [
  {
   "cell_type": "code",
   "execution_count": null,
   "id": "20b2974a",
   "metadata": {},
   "outputs": [],
   "source": [
    "%load_ext autoreload\n",
    "%autoreload 2"
   ]
  },
  {
   "cell_type": "code",
   "execution_count": null,
   "id": "2cf0f0f6",
   "metadata": {},
   "outputs": [],
   "source": [
    "import wfdb\n",
    "import pandas as pd"
   ]
  },
  {
   "cell_type": "code",
   "execution_count": null,
   "id": "612bbde4",
   "metadata": {},
   "outputs": [],
   "source": [
    "from utils.scoring_metrics import (\n",
    "    RefInfo, load_ans,\n",
    "    score, ue_calculate, ur_calculate,\n",
    "    compute_challenge_metric, gen_endpoint_score_mask,\n",
    ")\n",
    "from utils.scoring_metrics_test import _load_af_episodes\n",
    "\n",
    "# from database_reader.cpsc_databases import CPSC2021\n",
    "# from data_reader import CINC2021Reader\n",
    "from data_reader import CPSC2021Reader\n",
    "\n",
    "from utils.misc import list_sum"
   ]
  },
  {
   "cell_type": "code",
   "execution_count": null,
   "id": "5f447d9f",
   "metadata": {},
   "outputs": [],
   "source": []
  },
  {
   "cell_type": "code",
   "execution_count": null,
   "id": "bc3de65a",
   "metadata": {},
   "outputs": [],
   "source": [
    "db_dir = \"/home/wenhao/Jupyter/wenhao/data/CPSC2021/\""
   ]
  },
  {
   "cell_type": "code",
   "execution_count": null,
   "id": "8a3c1a8b",
   "metadata": {},
   "outputs": [],
   "source": []
  },
  {
   "cell_type": "code",
   "execution_count": null,
   "id": "49a832bd",
   "metadata": {},
   "outputs": [],
   "source": []
  },
  {
   "cell_type": "markdown",
   "id": "379e25c7",
   "metadata": {},
   "source": [
    "# check data reader"
   ]
  },
  {
   "cell_type": "code",
   "execution_count": null,
   "id": "88d1ef49",
   "metadata": {},
   "outputs": [],
   "source": [
    "dr = CPSC2021Reader(db_dir=db_dir)"
   ]
  },
  {
   "cell_type": "code",
   "execution_count": null,
   "id": "fb0d7567",
   "metadata": {},
   "outputs": [],
   "source": [
    "dr.df_stats[\"sig_len\"] / dr.df_stats[\"fs\"]"
   ]
  },
  {
   "cell_type": "code",
   "execution_count": null,
   "id": "c74624ef",
   "metadata": {},
   "outputs": [],
   "source": [
    "dr.diagnoses_records_list"
   ]
  },
  {
   "cell_type": "markdown",
   "id": "989cd86d",
   "metadata": {},
   "source": [
    "### normal class"
   ]
  },
  {
   "cell_type": "code",
   "execution_count": null,
   "id": "a38b1290",
   "metadata": {},
   "outputs": [],
   "source": [
    "rec = dr.diagnoses_records_list[\"N\"][42]\n",
    "rec"
   ]
  },
  {
   "cell_type": "code",
   "execution_count": null,
   "id": "c11652af",
   "metadata": {},
   "outputs": [],
   "source": [
    "hehe_data = dr.load_data(rec)\n",
    "\n",
    "hehe_data.shape"
   ]
  },
  {
   "cell_type": "code",
   "execution_count": null,
   "id": "b42ebe83",
   "metadata": {},
   "outputs": [],
   "source": [
    "dr._get_path(rec)"
   ]
  },
  {
   "cell_type": "code",
   "execution_count": null,
   "id": "111984b3",
   "metadata": {},
   "outputs": [],
   "source": [
    "dr.load_ann(rec)"
   ]
  },
  {
   "cell_type": "code",
   "execution_count": null,
   "id": "88d8dae5",
   "metadata": {},
   "outputs": [],
   "source": [
    "dr.load_label(rec, fmt=\"f\"), dr.load_label(rec, fmt=\"a\"), dr.load_label(rec, fmt=\"n\")"
   ]
  },
  {
   "cell_type": "code",
   "execution_count": null,
   "id": "d016d4ce",
   "metadata": {},
   "outputs": [],
   "source": [
    "hehe_rpeaks = dr.load_rpeaks(rec)\n",
    "hehe_rpeaks.shape"
   ]
  },
  {
   "cell_type": "code",
   "execution_count": null,
   "id": "95512cf4",
   "metadata": {},
   "outputs": [],
   "source": [
    "dr.load_rpeaks(rec, sampfrom=100, zero_start=True)"
   ]
  },
  {
   "cell_type": "code",
   "execution_count": null,
   "id": "ac77ae61",
   "metadata": {},
   "outputs": [],
   "source": [
    "dr.load_af_episodes(rec, fmt=\"intervals\")"
   ]
  },
  {
   "cell_type": "code",
   "execution_count": null,
   "id": "5a059cf6",
   "metadata": {},
   "outputs": [],
   "source": [
    "dr.load_af_episodes(rec, fmt=\"c_intervals\")"
   ]
  },
  {
   "cell_type": "code",
   "execution_count": null,
   "id": "d4c11ea0",
   "metadata": {},
   "outputs": [],
   "source": [
    "hehe_mask = dr.load_af_episodes(rec, fmt=\"mask\")\n",
    "\n",
    "hehe_mask.shape"
   ]
  },
  {
   "cell_type": "code",
   "execution_count": null,
   "id": "182c3e71",
   "metadata": {
    "scrolled": true
   },
   "outputs": [],
   "source": [
    "dr.plot(rec, sampfrom=1000, sampto=2000)"
   ]
  },
  {
   "cell_type": "code",
   "execution_count": null,
   "id": "86c77fa7",
   "metadata": {},
   "outputs": [],
   "source": []
  },
  {
   "cell_type": "markdown",
   "id": "20db23fc",
   "metadata": {},
   "source": [
    "### AFp"
   ]
  },
  {
   "cell_type": "code",
   "execution_count": null,
   "id": "fcd78dce",
   "metadata": {},
   "outputs": [],
   "source": [
    "rec = dr.diagnoses_records_list[\"AFp\"][42]\n",
    "rec"
   ]
  },
  {
   "cell_type": "code",
   "execution_count": null,
   "id": "e01ec06d",
   "metadata": {},
   "outputs": [],
   "source": [
    "hehe_data = dr.load_data(rec)\n",
    "\n",
    "hehe_data.shape"
   ]
  },
  {
   "cell_type": "code",
   "execution_count": null,
   "id": "b46be920",
   "metadata": {},
   "outputs": [],
   "source": [
    "dr._get_path(rec)"
   ]
  },
  {
   "cell_type": "code",
   "execution_count": null,
   "id": "57fe0d74",
   "metadata": {},
   "outputs": [],
   "source": [
    "dr.load_ann(rec)"
   ]
  },
  {
   "cell_type": "code",
   "execution_count": null,
   "id": "45297363",
   "metadata": {},
   "outputs": [],
   "source": [
    "dr.load_label(rec, fmt=\"f\"), dr.load_label(rec, fmt=\"a\"), dr.load_label(rec, fmt=\"n\")"
   ]
  },
  {
   "cell_type": "code",
   "execution_count": null,
   "id": "e13a648a",
   "metadata": {},
   "outputs": [],
   "source": [
    "hehe_rpeaks = dr.load_rpeaks(rec)\n",
    "hehe_rpeaks.shape"
   ]
  },
  {
   "cell_type": "code",
   "execution_count": null,
   "id": "89e4f514",
   "metadata": {},
   "outputs": [],
   "source": [
    "dr.load_rpeaks(rec, sampfrom=1000, zero_start=True)"
   ]
  },
  {
   "cell_type": "code",
   "execution_count": null,
   "id": "84b1efd8",
   "metadata": {},
   "outputs": [],
   "source": []
  },
  {
   "cell_type": "code",
   "execution_count": null,
   "id": "d2e7533a",
   "metadata": {},
   "outputs": [],
   "source": [
    "dr.load_af_episodes(rec, fmt=\"intervals\")"
   ]
  },
  {
   "cell_type": "code",
   "execution_count": null,
   "id": "0f7036f0",
   "metadata": {},
   "outputs": [],
   "source": [
    "dr.load_af_episodes(rec, fmt=\"c_intervals\")"
   ]
  },
  {
   "cell_type": "code",
   "execution_count": null,
   "id": "0a8527ad",
   "metadata": {},
   "outputs": [],
   "source": [
    "hehe_mask = dr.load_af_episodes(rec, fmt=\"mask\")\n",
    "\n",
    "hehe_mask.shape"
   ]
  },
  {
   "cell_type": "code",
   "execution_count": null,
   "id": "a4847be7",
   "metadata": {},
   "outputs": [],
   "source": [
    "dr.plot(rec, sampfrom=670000, sampto=672000)"
   ]
  },
  {
   "cell_type": "code",
   "execution_count": null,
   "id": "8fe7f55f",
   "metadata": {},
   "outputs": [],
   "source": []
  },
  {
   "cell_type": "code",
   "execution_count": null,
   "id": "fa607d7f",
   "metadata": {},
   "outputs": [],
   "source": []
  },
  {
   "cell_type": "code",
   "execution_count": null,
   "id": "0ff558f7",
   "metadata": {},
   "outputs": [],
   "source": []
  },
  {
   "cell_type": "markdown",
   "id": "5c6c2979",
   "metadata": {},
   "source": [
    "### AFf"
   ]
  },
  {
   "cell_type": "code",
   "execution_count": null,
   "id": "17e54379",
   "metadata": {},
   "outputs": [],
   "source": [
    "rec = dr.diagnoses_records_list[\"AFf\"][42]\n",
    "\n",
    "rec"
   ]
  },
  {
   "cell_type": "code",
   "execution_count": null,
   "id": "2ebd981d",
   "metadata": {},
   "outputs": [],
   "source": [
    "dr.load_ann(rec)"
   ]
  },
  {
   "cell_type": "code",
   "execution_count": null,
   "id": "9abfb9d4",
   "metadata": {},
   "outputs": [],
   "source": [
    "dr.load_label(rec, fmt=\"f\"), dr.load_label(rec, fmt=\"a\"), dr.load_label(rec, fmt=\"n\")"
   ]
  },
  {
   "cell_type": "code",
   "execution_count": null,
   "id": "300d0b96",
   "metadata": {},
   "outputs": [],
   "source": [
    "hehe_rpeaks = dr.load_rpeaks(rec)\n",
    "hehe_rpeaks.shape"
   ]
  },
  {
   "cell_type": "code",
   "execution_count": null,
   "id": "f4721cee",
   "metadata": {},
   "outputs": [],
   "source": [
    "dr.load_rpeaks(rec, sampfrom=100, zero_start=True)"
   ]
  },
  {
   "cell_type": "code",
   "execution_count": null,
   "id": "2fa43fb1",
   "metadata": {},
   "outputs": [],
   "source": [
    "dr.load_af_episodes(rec, fmt=\"intervals\")"
   ]
  },
  {
   "cell_type": "code",
   "execution_count": null,
   "id": "ad7f7b69",
   "metadata": {},
   "outputs": [],
   "source": [
    "dr.load_af_episodes(rec, fmt=\"c_intervals\")"
   ]
  },
  {
   "cell_type": "code",
   "execution_count": null,
   "id": "737843cb",
   "metadata": {},
   "outputs": [],
   "source": [
    "hehe_mask = dr.load_af_episodes(rec, fmt=\"mask\")\n",
    "\n",
    "hehe_mask.shape"
   ]
  },
  {
   "cell_type": "code",
   "execution_count": null,
   "id": "ee1457d4",
   "metadata": {
    "scrolled": true
   },
   "outputs": [],
   "source": [
    "dr.plot(rec, sampfrom=1000, sampto=5000)"
   ]
  },
  {
   "cell_type": "code",
   "execution_count": null,
   "id": "4a1bda12",
   "metadata": {},
   "outputs": [],
   "source": []
  },
  {
   "cell_type": "code",
   "execution_count": null,
   "id": "27620a74",
   "metadata": {},
   "outputs": [],
   "source": []
  },
  {
   "cell_type": "code",
   "execution_count": null,
   "id": "8b49515e",
   "metadata": {},
   "outputs": [],
   "source": []
  },
  {
   "cell_type": "markdown",
   "id": "3bb74c9b",
   "metadata": {},
   "source": [
    "# utils check"
   ]
  },
  {
   "cell_type": "code",
   "execution_count": null,
   "id": "91ed6464",
   "metadata": {},
   "outputs": [],
   "source": [
    "from utils.utils_signal import get_ampl, ensure_siglen"
   ]
  },
  {
   "cell_type": "code",
   "execution_count": null,
   "id": "82ba4cb3",
   "metadata": {},
   "outputs": [],
   "source": [
    "get_ampl(dr.load_data(rec), fs=dr.fs, critical_points=dr.load_rpeaks(rec))"
   ]
  },
  {
   "cell_type": "code",
   "execution_count": null,
   "id": "88922807",
   "metadata": {},
   "outputs": [],
   "source": [
    "get_ampl(dr.load_data(rec), fs=dr.fs)"
   ]
  },
  {
   "cell_type": "code",
   "execution_count": null,
   "id": "27970f33",
   "metadata": {},
   "outputs": [],
   "source": []
  },
  {
   "cell_type": "code",
   "execution_count": null,
   "id": "9ef464ad",
   "metadata": {},
   "outputs": [],
   "source": []
  },
  {
   "cell_type": "code",
   "execution_count": null,
   "id": "f7ba9c86",
   "metadata": {},
   "outputs": [],
   "source": []
  },
  {
   "cell_type": "markdown",
   "id": "28e4f3fe",
   "metadata": {},
   "source": [
    "# check custom scoring metrics"
   ]
  },
  {
   "cell_type": "code",
   "execution_count": null,
   "id": "707db7ec",
   "metadata": {},
   "outputs": [],
   "source": [
    "from utils.scoring_metrics_test import run_test, run_single_test"
   ]
  },
  {
   "cell_type": "code",
   "execution_count": null,
   "id": "588ae58c",
   "metadata": {},
   "outputs": [],
   "source": [
    "# ?run_test"
   ]
  },
  {
   "cell_type": "code",
   "execution_count": null,
   "id": "a75cbaaa",
   "metadata": {},
   "outputs": [],
   "source": [
    "l_rec = [dr._get_path(rec) for rec in dr.all_records]"
   ]
  },
  {
   "cell_type": "code",
   "execution_count": null,
   "id": "1ab57cf4",
   "metadata": {},
   "outputs": [],
   "source": []
  },
  {
   "cell_type": "code",
   "execution_count": null,
   "id": "12b70ac0",
   "metadata": {},
   "outputs": [],
   "source": [
    "run_test(l_rec)"
   ]
  },
  {
   "cell_type": "code",
   "execution_count": null,
   "id": "0b3623dd",
   "metadata": {},
   "outputs": [],
   "source": [
    "# err_list = data_39_4,data_48_4,data_68_23,data_98_5,data_101_5,data_101_7,data_101_8,data_104_25,data_104_27"
   ]
  },
  {
   "cell_type": "code",
   "execution_count": null,
   "id": "fa7b0a7e",
   "metadata": {},
   "outputs": [],
   "source": [
    "rec = \"data_39_4\""
   ]
  },
  {
   "cell_type": "code",
   "execution_count": null,
   "id": "dc7076a8",
   "metadata": {
    "scrolled": true
   },
   "outputs": [],
   "source": [
    "run_single_test(dr._get_path(rec), verbose=2)"
   ]
  },
  {
   "cell_type": "code",
   "execution_count": null,
   "id": "c0cbb8b3",
   "metadata": {},
   "outputs": [],
   "source": [
    "ref_info = RefInfo(dr._get_path(rec))\n",
    "o_mask = ref_info._gen_endpoint_score_range()"
   ]
  },
  {
   "cell_type": "code",
   "execution_count": null,
   "id": "5559807a",
   "metadata": {
    "scrolled": true
   },
   "outputs": [],
   "source": [
    "o_mask[1][90527:]"
   ]
  },
  {
   "cell_type": "code",
   "execution_count": null,
   "id": "c09126ac",
   "metadata": {},
   "outputs": [],
   "source": [
    "c_mask = gen_endpoint_score_mask(\n",
    "    siglen=dr.df_stats[dr.df_stats.record==rec].iloc[0][\"sig_len\"],\n",
    "    critical_points=wfdb.rdann(dr._get_path(rec),extension=dr.ann_ext).sample,\n",
    "    af_intervals=dr.load_af_episodes(rec, fmt=\"c_intervals\")\n",
    ")"
   ]
  },
  {
   "cell_type": "code",
   "execution_count": null,
   "id": "a312c8a4",
   "metadata": {},
   "outputs": [],
   "source": [
    "c_mask[1][90527:]"
   ]
  },
  {
   "cell_type": "code",
   "execution_count": null,
   "id": "0b4fd418",
   "metadata": {},
   "outputs": [],
   "source": []
  },
  {
   "cell_type": "code",
   "execution_count": null,
   "id": "de8caf97",
   "metadata": {},
   "outputs": [],
   "source": [
    "dr.plot(rec, sampfrom=89600)"
   ]
  },
  {
   "cell_type": "code",
   "execution_count": null,
   "id": "7d1f965a",
   "metadata": {},
   "outputs": [],
   "source": []
  },
  {
   "cell_type": "code",
   "execution_count": null,
   "id": "fbfcd6c3",
   "metadata": {},
   "outputs": [],
   "source": []
  },
  {
   "cell_type": "markdown",
   "id": "06b82e16",
   "metadata": {},
   "source": [
    "# check data generator and sliced segments and rr_seq"
   ]
  },
  {
   "cell_type": "code",
   "execution_count": null,
   "id": "405e0cc8",
   "metadata": {},
   "outputs": [],
   "source": [
    "from dataset import CPSC2021\n",
    "from cfg import TrainCfg"
   ]
  },
  {
   "cell_type": "code",
   "execution_count": null,
   "id": "57555a67",
   "metadata": {},
   "outputs": [],
   "source": [
    "ds = CPSC2021(TrainCfg, task=\"rr_lstm\", training=True)"
   ]
  },
  {
   "cell_type": "code",
   "execution_count": null,
   "id": "aed26568",
   "metadata": {},
   "outputs": [],
   "source": [
    "len(ds)"
   ]
  },
  {
   "cell_type": "code",
   "execution_count": null,
   "id": "5c8b3cb3",
   "metadata": {
    "scrolled": true
   },
   "outputs": [],
   "source": [
    "ds[0]"
   ]
  },
  {
   "cell_type": "code",
   "execution_count": null,
   "id": "76d4e6f9",
   "metadata": {},
   "outputs": [],
   "source": []
  },
  {
   "cell_type": "code",
   "execution_count": null,
   "id": "8c850802",
   "metadata": {},
   "outputs": [],
   "source": [
    "ds.reset_task(\"qrs_detection\")"
   ]
  },
  {
   "cell_type": "code",
   "execution_count": null,
   "id": "50fffe92",
   "metadata": {},
   "outputs": [],
   "source": [
    "len(ds)"
   ]
  },
  {
   "cell_type": "code",
   "execution_count": null,
   "id": "2eeedd7b",
   "metadata": {},
   "outputs": [],
   "source": [
    "ds[0]"
   ]
  },
  {
   "cell_type": "code",
   "execution_count": null,
   "id": "f09a93cb",
   "metadata": {},
   "outputs": [],
   "source": [
    "ds._load_seg_ann(ds.segments[0])"
   ]
  },
  {
   "cell_type": "code",
   "execution_count": null,
   "id": "be1ef55b",
   "metadata": {},
   "outputs": [],
   "source": []
  },
  {
   "cell_type": "code",
   "execution_count": null,
   "id": "1baecc5d",
   "metadata": {},
   "outputs": [],
   "source": []
  },
  {
   "cell_type": "code",
   "execution_count": null,
   "id": "a4bc916e",
   "metadata": {},
   "outputs": [],
   "source": []
  },
  {
   "cell_type": "code",
   "execution_count": null,
   "id": "97250fa8",
   "metadata": {},
   "outputs": [],
   "source": []
  }
 ],
 "metadata": {
  "kernelspec": {
   "display_name": "Python 3",
   "language": "python",
   "name": "python3"
  },
  "language_info": {
   "codemirror_mode": {
    "name": "ipython",
    "version": 3
   },
   "file_extension": ".py",
   "mimetype": "text/x-python",
   "name": "python",
   "nbconvert_exporter": "python",
   "pygments_lexer": "ipython3",
   "version": "3.6.9"
  }
 },
 "nbformat": 4,
 "nbformat_minor": 5
}
